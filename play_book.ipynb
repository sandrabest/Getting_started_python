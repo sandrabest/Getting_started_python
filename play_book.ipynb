{
 "cells": [
  {
   "cell_type": "code",
   "execution_count": 3,
   "id": "b49db01a-eee6-4245-b2ab-c45ee0a89763",
   "metadata": {},
   "outputs": [
    {
     "name": "stdout",
     "output_type": "stream",
     "text": [
      "Chioma Sandra\n"
     ]
    }
   ],
   "source": [
    "#Concatenation of Strings \n",
    "first_name = \"Chioma\"\n",
    "Last_name = \"Sandra\"\n",
    "full_name = first_name + \" \" +  Last_name \n",
    "print (full_name)"
   ]
  },
  {
   "cell_type": "code",
   "execution_count": 7,
   "id": "1f2801bc-6ff1-412d-ac66-1d0561e4af2d",
   "metadata": {},
   "outputs": [
    {
     "name": "stdout",
     "output_type": "stream",
     "text": [
      "Runoooo!Runoooo!Runoooo!Runoooo!Runoooo!Runoooo!\n"
     ]
    }
   ],
   "source": [
    "#Repetation of Strings\n",
    "shout = \"Runoooo!\" \n",
    "print (shout * 6)\n"
   ]
  },
  {
   "cell_type": "code",
   "execution_count": null,
   "id": "eda45c0f-2a4f-4484-8992-6ed251eb1956",
   "metadata": {},
   "outputs": [],
   "source": [
    "things_to_buy = str (input(\"Write the list of things you want to buy here : \"))\n",
    "print (len(things_to_buy))\n"
   ]
  },
  {
   "cell_type": "code",
   "execution_count": 8,
   "id": "0eb0809c-d901-4e9e-be87-fb0d25e49b61",
   "metadata": {},
   "outputs": [
    {
     "name": "stdout",
     "output_type": "stream",
     "text": [
      "S\n",
      "n\n"
     ]
    }
   ],
   "source": [
    "#indexing in strings \n",
    "text = \"Sandra\"\n",
    "first_text = text[0]\n",
    "second_text = text [2]\n",
    "print (first_text)\n",
    "print (second_text)"
   ]
  },
  {
   "cell_type": "code",
   "execution_count": 11,
   "id": "a7e7be32-647d-437b-9cac-92ba040766fa",
   "metadata": {},
   "outputs": [
    {
     "name": "stdout",
     "output_type": "stream",
     "text": [
      "Sandra\n",
      "and\n"
     ]
    }
   ],
   "source": [
    "#Slicing in Strings : this is just to pick a character from a range a to another range b\n",
    "print (text)\n",
    "word_4rm_text = text [1:4]\n",
    "print (word_4rm_text)\n"
   ]
  },
  {
   "cell_type": "code",
   "execution_count": 12,
   "id": "8808161b-5b90-40bc-af8f-40b08cddef29",
   "metadata": {},
   "outputs": [
    {
     "name": "stdout",
     "output_type": "stream",
     "text": [
      "36\n"
     ]
    }
   ],
   "source": [
    "#length is funtion use to know the length of a variable \n",
    "dept_name= \"Electronics and Computer Engineering\"\n",
    "print (len(dept_name))"
   ]
  },
  {
   "cell_type": "code",
   "execution_count": 14,
   "id": "b3a8c9b9-a7b2-4960-832a-8a1da32297dd",
   "metadata": {},
   "outputs": [
    {
     "name": "stdout",
     "output_type": "stream",
     "text": [
      "electronics and computer engineering\n"
     ]
    }
   ],
   "source": [
    "#lower method in python, writen as lower()\n",
    "dept_name= \"Electronics and Computer Engineering\"\n",
    "print (dept_name.lower())"
   ]
  },
  {
   "cell_type": "code",
   "execution_count": 15,
   "id": "4e31006b-88ba-46bf-99b1-2d8256aef339",
   "metadata": {},
   "outputs": [
    {
     "name": "stdout",
     "output_type": "stream",
     "text": [
      "ELECTRONICS AND COMPUTER ENGINEERING\n"
     ]
    }
   ],
   "source": [
    "#upper method in python writen as upper()\n",
    "dept_name= \"Electronics and Computer Engineering\"\n",
    "print (dept_name.upper())"
   ]
  },
  {
   "cell_type": "code",
   "execution_count": 19,
   "id": "f28f0509-5c89-434d-8b9e-8eb89b24712c",
   "metadata": {},
   "outputs": [
    {
     "name": "stdout",
     "output_type": "stream",
     "text": [
      "And my name is Adaife\n"
     ]
    }
   ],
   "source": [
    "#strip : it is used to remove leading and trailing whitespace fro the string \n",
    "feast = \"                  And my name is Adaife            \" \n",
    "print (feast .strip()) #notice that when i print this, it will remove the spaces "
   ]
  },
  {
   "cell_type": "code",
   "execution_count": 20,
   "id": "ac8a7350-516e-4cfe-b3fd-37178684c427",
   "metadata": {},
   "outputs": [
    {
     "name": "stdout",
     "output_type": "stream",
     "text": [
      "my name is sandra chioma\n"
     ]
    }
   ],
   "source": [
    "#replace method is used to replace what intially exist with what you want.....replace(old,new)\n",
    "full_name = \"my name is sandra chukwu\"\n",
    "print (full_name.replace(\"chukwu\" , \"chioma\"))"
   ]
  },
  {
   "cell_type": "code",
   "execution_count": 24,
   "id": "1fa1662d-ef0b-44a8-97db-88f29b94ed6a",
   "metadata": {},
   "outputs": [
    {
     "name": "stdout",
     "output_type": "stream",
     "text": [
      "['I am', ' a native', ' of Awka', ' in Anambra State']\n"
     ]
    }
   ],
   "source": [
    "#split(delimiter) : Splits the string into a list of substrings based on a delimiter.e , , : \" ; etc from your strings\n",
    "example = \"I am, a native, of Awka, in Anambra State\"\n",
    "print (example.split(\",\"))"
   ]
  },
  {
   "cell_type": "code",
   "execution_count": 30,
   "id": "cd4d47cc-74e2-4e1b-a769-7a608fab4d2c",
   "metadata": {},
   "outputs": [
    {
     "name": "stdin",
     "output_type": "stream",
     "text": [
      "Input your name here :  SAN\n",
      "input your age here :  34\n"
     ]
    },
    {
     "name": "stdout",
     "output_type": "stream",
     "text": [
      "your name is SAN and you are 34 years old\n"
     ]
    }
   ],
   "source": [
    "\"\"\"Create a program that prompts the user to enter their name and age, \n",
    "and then prints a personalized greeting message using f-strings. \n",
    "The message should include the user's name and age.\"\"\"\n",
    "\n",
    "name = str (input(\"Input your name here : \"))\n",
    "age = int (input(\"input your age here : \"))\n",
    "print(f\"your name is {name} and you are {age} years old\" )"
   ]
  },
  {
   "cell_type": "code",
   "execution_count": 6,
   "id": "03290d06-e9b7-4e3d-b9f1-c010c89f948e",
   "metadata": {},
   "outputs": [
    {
     "name": "stdin",
     "output_type": "stream",
     "text": [
      "Input the Fahrenheit Temp Value here:  65\n"
     ]
    },
    {
     "name": "stdout",
     "output_type": "stream",
     "text": [
      "The conversion value of the celcius input is 149.00 degree\n"
     ]
    }
   ],
   "source": [
    "\"\"\"\n",
    "Write a program that takes a temperature in Celsius as input from the user and converts it to Fahrenheit using the formula:\n",
    "Fahrenheit = Celsius × 9/5 + 32 \n",
    "Display the result using f-strings, formatted to two decimal places.\n",
    "\n",
    "\"\"\"\n",
    "Temp_in_Celsuis = int(input(\"Input the Fahrenheit Temp Value here: \"))\n",
    "Fahrenheit = Temp_in_Celsuis * (9/5) + 32\n",
    "print (f\"The conversion value of the celcius input is {Fahrenheit:.2f} degree\")"
   ]
  },
  {
   "cell_type": "code",
   "execution_count": 29,
   "id": "e8be193f-cffd-4013-96d9-aad87512daee",
   "metadata": {},
   "outputs": [
    {
     "name": "stdin",
     "output_type": "stream",
     "text": [
      "Kindly enter details about this era : hsdhasdhashdjsj\n",
      "Year it ended please  xkxzcjhnzcxhn\n",
      "Kindly enter details about this era : xbcjckjckjxch\n",
      "Year it ended please  bnxnbxbcxjhc\n",
      "Kindly enter details about this era : bnxbnmbxnmbc\n",
      "Kindly enter details about this era : bnxnmbxzb\n"
     ]
    },
    {
     "name": "stdout",
     "output_type": "stream",
     "text": [
      "\n",
      "\t This journal is all about the history of event, we describe the renaissance era as in hsdhasdhashdjsj,\n",
      " which ended in year xkxzcjhnzcxhn.followed by xbcjckjckjxch, which ended in the year bnxnbxbcxjhc \n",
      ",let take alook at the \n",
      " bnxbnmbxnmbc and lastly \n",
      "bnxnmbxzb\n"
     ]
    }
   ],
   "source": [
    "\"\"\"\n",
    "\n",
    "\"\"\"\n",
    "Renaissance_details = input (\"Kindly enter details about this era :\")\n",
    "Renaissance_year = input(\"Year it ended please \")\n",
    "The_Victorian_Era  = input (\"Kindly enter details about this era :\")\n",
    "The_Victorian_Era_year= input (\"Year it ended please \")\n",
    "Mediavial_Era = input (\"Kindly enter details about this era :\")\n",
    "Industrial_Era = input (\"Kindly enter details about this era :\")\n",
    "print (f\"\"\"\\n\\t This journal is all about the history of event, we describe the renaissance era as in {Renaissance_details},\\n which ended in year {Renaissance_year}.followed by {The_Victorian_Era}, which ended in the year {The_Victorian_Era_year} \n",
    ",let take alook at the \\n {Mediavial_Era} and lastly \\n{Industrial_Era}\"\"\")\n",
    "\n"
   ]
  },
  {
   "cell_type": "code",
   "execution_count": 27,
   "id": "dfaa3c35-8986-434a-b3e6-b5b5b036981e",
   "metadata": {},
   "outputs": [
    {
     "name": "stdin",
     "output_type": "stream",
     "text": [
      "Enter your full name here :  uh\n",
      "Enter the quantity of item you bought: 9\n",
      "Input the price of the item you bought :  9\n"
     ]
    },
    {
     "name": "stdout",
     "output_type": "stream",
     "text": [
      " item orderd uh for the event in 9 in number and the total price is 9, Total price  $81\n"
     ]
    }
   ],
   "source": [
    "name = str(input(\"Enter your full name here : \"))\n",
    "quantity = int(input(\"Enter the quantity of item you bought:\")) \n",
    "price = int(input(\"Input the price of the item you bought : \"))\n",
    "print (f\" item orderd {name} \\\n",
    "for the event in {quantity} in number \\\n",
    "and the total price is {price}, \\\n",
    "Total price  ${quantity * price}\")\n"
   ]
  },
  {
   "cell_type": "code",
   "execution_count": null,
   "id": "b0cb021a-546c-4695-9c6b-9605259cddac",
   "metadata": {},
   "outputs": [],
   "source": []
  }
 ],
 "metadata": {
  "kernelspec": {
   "display_name": "Python 3 (ipykernel)",
   "language": "python",
   "name": "python3"
  },
  "language_info": {
   "codemirror_mode": {
    "name": "ipython",
    "version": 3
   },
   "file_extension": ".py",
   "mimetype": "text/x-python",
   "name": "python",
   "nbconvert_exporter": "python",
   "pygments_lexer": "ipython3",
   "version": "3.10.12"
  }
 },
 "nbformat": 4,
 "nbformat_minor": 5
}
